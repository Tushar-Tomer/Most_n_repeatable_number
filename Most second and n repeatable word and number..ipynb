{
 "cells": [
  {
   "cell_type": "markdown",
   "id": "149e21fd",
   "metadata": {},
   "source": [
    "# Find the most second repeatable ."
   ]
  },
  {
   "cell_type": "code",
   "execution_count": 3,
   "id": "75a326a8",
   "metadata": {},
   "outputs": [
    {
     "name": "stdout",
     "output_type": "stream",
     "text": [
      "aa bb aa bb bb cc cc cc cc cc cc bb\n",
      "cc\n",
      "['aa', 'bb', 'aa', 'bb', 'bb', 'bb']\n",
      "This is the most last second repeatable word =  bb\n"
     ]
    }
   ],
   "source": [
    "a=input().split(' ')\n",
    "b=0\n",
    "f=0\n",
    "for i in a:\n",
    "    d=a.count(i)\n",
    "    if d>b:\n",
    "        max=i\n",
    "        b=d\n",
    "print(max)\n",
    "for i in range(1,b+1):\n",
    "    a.remove(max)\n",
    "print(a)\n",
    "for i in a:\n",
    "    e=a.count(i)\n",
    "    if e>f:\n",
    "        m=i\n",
    "        f=e\n",
    "print(\"This is the most last second repeatable word = \",m)"
   ]
  },
  {
   "cell_type": "markdown",
   "id": "0fff9213",
   "metadata": {},
   "source": [
    "# Find the most n repeatable word ."
   ]
  },
  {
   "cell_type": "code",
   "execution_count": 4,
   "id": "fd2c1ede",
   "metadata": {},
   "outputs": [
    {
     "name": "stdout",
     "output_type": "stream",
     "text": [
      "aa bb aa bb bb cc cc cc cc cc cc bb\n",
      "Enter your last most  repeatable word = 3\n",
      "cc\n",
      "['aa', 'bb', 'aa', 'bb', 'bb', 'bb']\n",
      "bb\n",
      "['aa', 'aa']\n",
      "This is the most last  3  repeatable word =  aa\n"
     ]
    }
   ],
   "source": [
    "a=input().split(' ')\n",
    "n=int(input(\"Enter your last most n repeatable word = \"))\n",
    "for i in range (1,n):\n",
    "    b=0\n",
    "    f=0\n",
    "    for i in a:\n",
    "        d=a.count(i)\n",
    "        if d>b:\n",
    "            max=i\n",
    "            b=d\n",
    "    print(max)\n",
    "    for i in range(1,b+1):\n",
    "        a.remove(max)\n",
    "    print(a)\n",
    "    for i in a:\n",
    "        e=a.count(i)\n",
    "        if e>f:\n",
    "            m=i\n",
    "            f=e\n",
    "print(\"This is the most last \",n,\" repeatable word = \",m)"
   ]
  },
  {
   "cell_type": "markdown",
   "id": "71e8ab25",
   "metadata": {},
   "source": [
    "# Find the most second repeatable number ."
   ]
  },
  {
   "cell_type": "code",
   "execution_count": 5,
   "id": "ea256cf0",
   "metadata": {},
   "outputs": [
    {
     "name": "stdout",
     "output_type": "stream",
     "text": [
      "4\n",
      "[1, 2, 3, 2, 5, 1, 1, 1, 1, 1, 2, 3, 5, 1]\n",
      "This is the most last 2 repeatable number =  1\n"
     ]
    }
   ],
   "source": [
    "a=[1,2,4,3,2,5,1,1,1,1,1,2,3,4,5,4,4,4,4,4,4,4,1,4]\n",
    "b=0\n",
    "f=0\n",
    "for i in a:\n",
    "    d=a.count(i)\n",
    "    if d>b:\n",
    "        x=i\n",
    "        b=d\n",
    "print(x)\n",
    "for i in range(1,b+1):\n",
    "    a.remove(x)\n",
    "print(a)\n",
    "for i in a:\n",
    "    e=a.count(i)\n",
    "    if e>f:\n",
    "        m=i\n",
    "        f=e\n",
    "print(\"This is the most last 2 repeatable number = \",m)"
   ]
  },
  {
   "cell_type": "markdown",
   "id": "e25b7f37",
   "metadata": {},
   "source": [
    "# Find the most n repeatable number ."
   ]
  },
  {
   "cell_type": "code",
   "execution_count": 7,
   "id": "921b78e5",
   "metadata": {},
   "outputs": [
    {
     "name": "stdout",
     "output_type": "stream",
     "text": [
      "1 2 4 3 2 5 1 1 1 1 1 2 3 4 5 4 4 4 4 4 4 4 1 4\n",
      "Enter your last most  repeatable number = 4\n",
      "4\n",
      "['1', '2', '3', '2', '5', '1', '1', '1', '1', '1', '2', '3', '5', '1']\n",
      "1\n",
      "['2', '3', '2', '5', '2', '3', '5']\n",
      "2\n",
      "['3', '5', '3', '5']\n",
      "This is the most last  4  repeatable number =  3\n"
     ]
    }
   ],
   "source": [
    "a=input().split(' ')\n",
    "n=int(input(\"Enter your last most n repeatable number = \"))\n",
    "for i in range (1,n):\n",
    "    b=0\n",
    "    f=0\n",
    "    for i in a:\n",
    "        d=a.count(i)\n",
    "        if d>b:\n",
    "            max=i\n",
    "            b=d\n",
    "    print(max)\n",
    "    for i in range(1,b+1):\n",
    "        a.remove(max)\n",
    "    print(a)\n",
    "    for i in a:\n",
    "        e=a.count(i)\n",
    "        if e>f:\n",
    "            m=i\n",
    "            f=e\n",
    "print(\"This is the most last \",n,\" repeatable number = \",m)"
   ]
  }
 ],
 "metadata": {
  "kernelspec": {
   "display_name": "Python 3 (ipykernel)",
   "language": "python",
   "name": "python3"
  },
  "language_info": {
   "codemirror_mode": {
    "name": "ipython",
    "version": 3
   },
   "file_extension": ".py",
   "mimetype": "text/x-python",
   "name": "python",
   "nbconvert_exporter": "python",
   "pygments_lexer": "ipython3",
   "version": "3.9.12"
  }
 },
 "nbformat": 4,
 "nbformat_minor": 5
}
